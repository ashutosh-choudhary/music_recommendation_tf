{
 "cells": [
  {
   "cell_type": "markdown",
   "metadata": {},
   "source": [
    "# Import Libraries"
   ]
  },
  {
   "cell_type": "code",
   "execution_count": 1,
   "metadata": {
    "collapsed": true
   },
   "outputs": [],
   "source": [
    "import numpy as np\n",
    "import tensorflow as tf\n",
    "import helpers\n",
    "\n",
    "tf.reset_default_graph()\n",
    "sess = tf.InteractiveSession()"
   ]
  },
  {
   "cell_type": "code",
   "execution_count": 2,
   "metadata": {
    "collapsed": false
   },
   "outputs": [
    {
     "data": {
      "text/plain": [
       "'1.0.1'"
      ]
     },
     "execution_count": 2,
     "metadata": {},
     "output_type": "execute_result"
    }
   ],
   "source": [
    "tf.__version__"
   ]
  },
  {
   "cell_type": "markdown",
   "metadata": {},
   "source": [
    "# Define model parameters sizes"
   ]
  },
  {
   "cell_type": "code",
   "execution_count": 3,
   "metadata": {
    "collapsed": false
   },
   "outputs": [
    {
     "name": "stdout",
     "output_type": "stream",
     "text": [
      "55\n"
     ]
    }
   ],
   "source": [
    "#PAD = 0\n",
    "#EOS = 1\n",
    "#vocab_size = 10\n",
    "train_batch_, val_batch_, test_batch, vocab_size = helpers.load_y_labels()\n",
    "print vocab_size\n",
    "PAD = vocab_size + 1\n",
    "EOS = vocab_size + 2\n",
    "input_embedding_size = 20\n",
    "encoder_hidden_units = 20"
   ]
  },
  {
   "cell_type": "markdown",
   "metadata": {},
   "source": [
    "# Define input, output and weights"
   ]
  },
  {
   "cell_type": "code",
   "execution_count": 4,
   "metadata": {
    "collapsed": true
   },
   "outputs": [],
   "source": [
    "encoder_inputs = tf.placeholder(shape=(None, None), dtype=tf.int32, name='encoder_inputs')\n",
    "encoder_targets = tf.placeholder(shape=(None, None), dtype=tf.int32, name='encoder_targets')"
   ]
  },
  {
   "cell_type": "code",
   "execution_count": 5,
   "metadata": {
    "collapsed": false
   },
   "outputs": [],
   "source": [
    "embeddings = tf.Variable(tf.random_uniform([vocab_size, input_embedding_size], -1.0, 1.0), dtype=tf.float32)"
   ]
  },
  {
   "cell_type": "code",
   "execution_count": 6,
   "metadata": {
    "collapsed": true
   },
   "outputs": [],
   "source": [
    "encoder_inputs_embedded = tf.nn.embedding_lookup(embeddings, encoder_inputs)"
   ]
  },
  {
   "cell_type": "code",
   "execution_count": 7,
   "metadata": {
    "collapsed": false
   },
   "outputs": [],
   "source": [
    "encoder_cell = tf.contrib.rnn.LSTMCell(encoder_hidden_units)\n",
    "\n",
    "encoder_outputs, encoder_final_state = tf.nn.dynamic_rnn(\n",
    "    encoder_cell, encoder_inputs_embedded,\n",
    "    dtype=tf.float32, time_major=True,\n",
    ")"
   ]
  },
  {
   "cell_type": "code",
   "execution_count": 8,
   "metadata": {
    "collapsed": true
   },
   "outputs": [],
   "source": [
    "encoder_logits = tf.contrib.layers.linear(encoder_outputs, vocab_size)\n",
    "\n",
    "encoder_prediction = tf.argmax(encoder_logits, 2)"
   ]
  },
  {
   "cell_type": "code",
   "execution_count": 9,
   "metadata": {
    "collapsed": false
   },
   "outputs": [
    {
     "data": {
      "text/plain": [
       "<tf.Tensor 'fully_connected/Reshape_1:0' shape=(?, ?, 55) dtype=float32>"
      ]
     },
     "execution_count": 9,
     "metadata": {},
     "output_type": "execute_result"
    }
   ],
   "source": [
    "encoder_logits"
   ]
  },
  {
   "cell_type": "markdown",
   "metadata": {},
   "source": [
    "# Define loss"
   ]
  },
  {
   "cell_type": "code",
   "execution_count": 10,
   "metadata": {
    "collapsed": true
   },
   "outputs": [],
   "source": [
    "# stepwise_cross_entropy = tf.nn.softmax_cross_entropy_with_logits(\n",
    "#     labels=tf.one_hot(encoder_targets, depth=vocab_size, dtype=tf.float32),\n",
    "#     logits=encoder_logits,\n",
    "# )\n",
    "\n",
    "stepwise_cross_entropy = tf.nn.sparse_softmax_cross_entropy_with_logits(\n",
    "    labels=tf.transpose(encoder_targets),\n",
    "    logits=encoder_logits\n",
    ")\n",
    "\n",
    "loss = tf.reduce_mean(stepwise_cross_entropy)\n",
    "train_op = tf.train.AdamOptimizer().minimize(loss)"
   ]
  },
  {
   "cell_type": "markdown",
   "metadata": {},
   "source": [
    "# Initialize variables"
   ]
  },
  {
   "cell_type": "code",
   "execution_count": 11,
   "metadata": {
    "collapsed": true
   },
   "outputs": [],
   "source": [
    "sess.run(tf.global_variables_initializer())"
   ]
  },
  {
   "cell_type": "markdown",
   "metadata": {},
   "source": [
    "# Verify forward pass"
   ]
  },
  {
   "cell_type": "code",
   "execution_count": 12,
   "metadata": {
    "collapsed": false
   },
   "outputs": [
    {
     "name": "stdout",
     "output_type": "stream",
     "text": [
      "batch_encoded:\n",
      "[[45  0  5  0  0 13 14  2  0]\n",
      " [22  0 39  0 20 24  0  2 35]\n",
      " [30  0  0  0  0  0  4  3 28]\n",
      " [34  8  0  0  5  0 19 26 47]\n",
      " [40 18  0  0 50  0 41 38 44]\n",
      " [53 16  0 54 12  0 11  7 23]\n",
      " [32  6 25  0 49  0  4  3 21]\n",
      " [17  9 10  0 52  0 15  2 51]\n",
      " [33 37 48  0 42  0 46  0 27]\n",
      " [29  0 36  0  0  0 31  0 43]]\n",
      "encoder predictions:\n",
      "[[ 8 46 10 46 46 47 29 24 46]\n",
      " [51 17 18 17 35 12 53 24  0]\n",
      " [37 17 18 17 45 46 29 43 46]\n",
      " [37 32  0 17 17 46 13 30 45]\n",
      " [44 17 17 17  8 46 52 37  3]\n",
      " [18 46 17 17 45 46 52 19 45]\n",
      " [18 35  0 32  8 17 44 46 50]\n",
      " [18 32 45 17  9 17 18 11 29]\n",
      " [18 50  8 17  5 17 42 46 45]\n",
      " [44 50 47 17 46 17 37 46 46]]\n"
     ]
    }
   ],
   "source": [
    "train_batch_, train_batch_length_ = helpers.batch(train_batch_)\n",
    "print('batch_encoded:\\n' + str(train_batch_))\n",
    "\n",
    "pred_ = sess.run(encoder_prediction,\n",
    "    feed_dict={\n",
    "        encoder_inputs: train_batch_,\n",
    "        #encoder_inputs: train_batch_        \n",
    "    })\n",
    "print('encoder predictions:\\n' + str(pred_))"
   ]
  },
  {
   "cell_type": "markdown",
   "metadata": {},
   "source": [
    "# Read and load data in time-major-form in batches"
   ]
  },
  {
   "cell_type": "code",
   "execution_count": 13,
   "metadata": {
    "collapsed": false
   },
   "outputs": [],
   "source": [
    "#batch_size = 100\n",
    "batch_size = 2\n",
    "\n",
    "batches = helpers.read_and_load_data(train_batch_, batch_size)\n",
    "#store = next(batches)\n",
    "#print(store)\n",
    "#print(helpers.batch(store))\n",
    "#print(next(batches))\n"
   ]
  },
  {
   "cell_type": "code",
   "execution_count": 14,
   "metadata": {
    "collapsed": true
   },
   "outputs": [],
   "source": [
    "def next_feed():\n",
    "    batch = next(batches)\n",
    "    #print type(batch)\n",
    "    #print batch\n",
    "    X_feed = helpers.batch(batch)[0]\n",
    "    #print X_feed\n",
    "    #print X_feed.shape\n",
    "    return {\n",
    "        encoder_inputs: X_feed[0:-1,:],\n",
    "        encoder_targets: X_feed[1:,:]\n",
    "    }\n",
    "\n"
   ]
  },
  {
   "cell_type": "code",
   "execution_count": 15,
   "metadata": {
    "collapsed": false
   },
   "outputs": [],
   "source": [
    "#print(next_feed())\n",
    "loss_track = []"
   ]
  },
  {
   "cell_type": "code",
   "execution_count": 16,
   "metadata": {
    "collapsed": false
   },
   "outputs": [
    {
     "name": "stdout",
     "output_type": "stream",
     "text": [
      "batch 0\n",
      "  minibatch loss: 3.97242450714\n",
      "  sample 1:\n",
      "    input     > [45  0  5  0  0 13 14  2]\n",
      "    predicted > [ 8  6 46 46 46 46 29 18]\n",
      "  sample 2:\n",
      "    input     > [22  0 39  0 20 24  0  2]\n",
      "    predicted > [37 39  0  0  0 45 45 18]\n",
      "()\n",
      "batch 2\n",
      "  minibatch loss: 4.00921440125\n",
      "  sample 1:\n",
      "    input     > [40 18  0  0 50  0 41 38]\n",
      "    predicted > [15 10 17 17  8 46 32 32]\n",
      "  sample 2:\n",
      "    input     > [53 16  0 54 12  0 11  7]\n",
      "    predicted > [18  0  0  0 45 45  0 45]\n",
      "()\n",
      "batch 4\n",
      "  minibatch loss: 3.97061729431\n",
      "  sample 1:\n",
      "    input     > [33 37 48  0 42  0 46  0]\n",
      "    predicted > [51 51 34  4  4  0 42  0]\n",
      "  sample 2:\n",
      "    input     > [29  0 36  0  0  0 31  0]\n",
      "    predicted > [44 44 44  6  6  6 17 17]\n",
      "()\n",
      "Training done\n"
     ]
    }
   ],
   "source": [
    "max_batches = 3001\n",
    "#batches_in_epoch = 1000\n",
    "batches_in_epoch = 2\n",
    "\n",
    "try:\n",
    "    for batch in range(22):\n",
    "        #print \"taking next et of files.....\"\n",
    "        fd = next_feed()\n",
    "        #print(fd)\n",
    "        _, l = sess.run([train_op, loss], fd)\n",
    "        loss_track.append(l)\n",
    "\n",
    "        if batch == 0 or batch % batches_in_epoch == 0:\n",
    "            print('batch {}'.format(batch))\n",
    "            print('  minibatch loss: {}'.format(sess.run(loss, fd)))\n",
    "            predict_ = sess.run(encoder_prediction, fd)\n",
    "            for i, (inp, pred) in enumerate(zip(fd[encoder_inputs].T, predict_.T)):\n",
    "                print('  sample {}:'.format(i + 1))\n",
    "                print('    input     > {}'.format(inp))\n",
    "                print('    predicted > {}'.format(pred))\n",
    "                if i >= 2:\n",
    "                    break\n",
    "            print()\n",
    "except Exception as e:\n",
    "    print('Training done')"
   ]
  },
  {
   "cell_type": "code",
   "execution_count": 17,
   "metadata": {
    "collapsed": false
   },
   "outputs": [
    {
     "name": "stderr",
     "output_type": "stream",
     "text": [
      "/Users/ashutoshchoudhary/Anaconda/anaconda/lib/python2.7/site-packages/matplotlib/font_manager.py:273: UserWarning: Matplotlib is building the font cache using fc-list. This may take a moment.\n",
      "  warnings.warn('Matplotlib is building the font cache using fc-list. This may take a moment.')\n"
     ]
    },
    {
     "name": "stdout",
     "output_type": "stream",
     "text": [
      "loss 3.9771 after 10 examples (batch_size=2)\n"
     ]
    },
    {
     "data": {
      "image/png": "[encoded data removed]",
      "text/plain": [
       "<matplotlib.figure.Figure at 0x11d0b6350>"
      ]
     },
     "metadata": {},
     "output_type": "display_data"
    }
   ],
   "source": [
    "%matplotlib inline\n",
    "import matplotlib.pyplot as plt\n",
    "plt.plot(loss_track)\n",
    "print('loss {:.4f} after {} examples (batch_size={})'.format(loss_track[-1], len(loss_track)*batch_size, batch_size))"
   ]
  },
  {
   "cell_type": "code",
   "execution_count": null,
   "metadata": {
    "collapsed": true
   },
   "outputs": [],
   "source": []
  }
 ],
 "metadata": {
  "anaconda-cloud": {},
  "kernelspec": {
   "display_name": "Python [default]",
   "language": "python",
   "name": "python2"
  },
  "language_info": {
   "codemirror_mode": {
    "name": "ipython",
    "version": 2
   },
   "file_extension": ".py",
   "mimetype": "text/x-python",
   "name": "python",
   "nbconvert_exporter": "python",
   "pygments_lexer": "ipython2",
   "version": "2.7.12"
  }
 },
 "nbformat": 4,
 "nbformat_minor": 1
}
