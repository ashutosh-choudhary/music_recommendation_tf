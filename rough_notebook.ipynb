{
 "cells": [
  {
   "cell_type": "code",
   "execution_count": 1,
   "metadata": {
    "collapsed": false
   },
   "outputs": [],
   "source": [
    "import helpers\n",
    "import numpy as np\n",
    "import collections\n",
    "import os\n",
    "import tensorflow as tf\n",
    "from itertools import groupby"
   ]
  },
  {
   "cell_type": "code",
   "execution_count": 2,
   "metadata": {
    "collapsed": false
   },
   "outputs": [],
   "source": [
    "train_data, valid_data, test_data, vocabulary = helpers.load_y_labels()"
   ]
  },
  {
   "cell_type": "code",
   "execution_count": 2,
   "metadata": {
    "collapsed": false
   },
   "outputs": [
    {
     "name": "stdout",
     "output_type": "stream",
     "text": [
      "[u'd36a800e-600f-4b9b-ac70-678281d37f1e', u'59ee98fb-408b-4caf-9b80-e915e3bf25fc', u'7592f593-bc39-4903-8419-f2460f8395e1', u'845151ee-57e6-429b-a7b6-13c318596361', u'c9d1feff-239a-442d-b4d1-f629e1f7b428', u'f0b99da2-3911-42a8-885c-26faad30d489', u'7ddd7215-c114-4b79-b53d-4cc18e846e0d', u'383bfc33-0e1f-41cd-85b1-1819e62e1f45', u'7e747df7-b46e-4dc7-a402-b574c9eb1af1', u'6d86c59c-2424-4957-a353-e315db973e39', u'<eos>', u'XXXXXXXXXX', u'XXXXXXXXXX', u'XXXXXXXXXX', u'0beff33b-835c-497b-9c3d-a0ff80e2b98f', u'46c9960c-ec15-43c2-b5cd-37e30fa2fa81', u'365eddb4-fb6c-4766-8a1d-548cd31dee1a', u'05ff9c72-5f46-40d7-8a69-61e94cff7233', u'1167cf9a-8b02-4ecd-aa0d-8bb161e796c2', u'aebe6fa6-c088-4d37-aa6c-1e97d77fed60', u'<eos>', u'1d519592-7875-4ba0-b81c-a8f01dfe77a1', u'b5e860b2-bb55-4f70-9e61-305252746e6b', u'XXXXXXXXXX', u'XXXXXXXXXX', u'XXXXXXXXXX', u'XXXXXXXXXX', u'638ebd40-97e4-4417-98ff-a62d28971742', u'19467cac-db46-41a4-9e6e-99d054952026', u'e71af595-fd4f-438a-92c8-310d0a58eb5d', u'8c84090c-36b3-4fa2-a613-478bf59a7265', u'<eos>', u'XXXXXXXXXX', u'XXXXXXXXXX', u'XXXXXXXXXX', u'XXXXXXXXXX', u'XXXXXXXXXX', u'fa885100-f442-46e1-8ec1-5fcaf190c386', u'<eos>', u'XXXXXXXXXX', u'58119eaa-a5ae-492d-ac8a-4a1cfb731a2c', u'XXXXXXXXXX', u'1d519592-7875-4ba0-b81c-a8f01dfe77a1', u'e90a6932-b238-4cc0-8331-6637469b7a34', u'2d982a74-a21a-4714-9d81-405ede915053', u'e7840a7d-38e4-4d69-b666-0ee4c92fe832', u'eb2fbdca-089e-493b-ae03-bb24cdf2b176', u'cfc2fb95-2fc0-4129-acf3-5a5dfb9bceef', u'<eos>', u'2e1c835c-ddfc-413a-835c-6a35c7d15d66', u'62a9959d-6c3e-4c59-b94a-3a2e53bce80b', u'XXXXXXXXXX', u'XXXXXXXXXX', u'XXXXXXXXXX', u'XXXXXXXXXX', u'XXXXXXXXXX', u'XXXXXXXXXX', u'<eos>', u'31459b6a-c642-4786-b102-d42377f7922e', u'XXXXXXXXXX', u'1988e204-96d5-49b0-bf73-450c572780d4', u'4cbbb2f9-b5d1-43ce-8aea-b281095a9564', u'cb47245d-0489-4b59-b203-378a2221b2fb', u'290e8223-11af-4ce8-b01c-85a2229fefc7', u'1988e204-96d5-49b0-bf73-450c572780d4', u'32193aa3-d5c5-41b7-92b8-04e557c8aec3', u'dd35ffa2-3df3-48a8-b633-8d07266b855d', u'79fd2fe7-dae8-4d5e-9462-3476f45a91a7', u'<eos>', u'fa6a5cf0-65c4-40bd-ae96-c58d19b69f82', u'fa6a5cf0-65c4-40bd-ae96-c58d19b69f82', u'0605e698-fa14-4c6d-978b-4188611b03b1', u'67ec10f3-3de0-415d-a194-6967d6908aed', u'b288763b-9468-4934-87a0-5cf33c5d7ecd', u'086ed877-5cf0-4dff-83cb-ac2e9b768b04', u'0605e698-fa14-4c6d-978b-4188611b03b1', u'fa6a5cf0-65c4-40bd-ae96-c58d19b69f82', u'<eos>', u'XXXXXXXXXX', u'86ede2e5-8203-4d99-ad90-eb107f7fe620', u'6d011598-b272-4923-9bbf-3a2bf413dc67', u'e4a30c3a-c4db-450c-b8ae-220f59e12e4b', u'd295414f-1f52-451e-a6a3-3d75174a0e2d', u'5ce4ec22-d958-4f20-a154-d94176778188', u'595c9383-0108-4a8e-b6f3-0c97e54f19bf', u'e9a3eb33-5e18-46a7-bae2-4e6939c6c0df', u'6865b85b-cf00-4ac2-a59f-a541dfcce15f', u'd1d972e0-2ab9-43e3-a194-c0ae4e9c4f07']\n"
     ]
    }
   ],
   "source": [
    "print(helpers._read_words('data/sample_train.txt'))"
   ]
  },
  {
   "cell_type": "code",
   "execution_count": 4,
   "metadata": {
    "collapsed": false
   },
   "outputs": [
    {
     "name": "stdout",
     "output_type": "stream",
     "text": [
      "{u'67ec10f3-3de0-415d-a194-6967d6908aed': 26, u'b5e860b2-bb55-4f70-9e61-305252746e6b': 39, u'32193aa3-d5c5-41b7-92b8-04e557c8aec3': 15, u'f0b99da2-3911-42a8-885c-26faad30d489': 53, u'2e1c835c-ddfc-413a-835c-6a35c7d15d66': 13, u'eb2fbdca-089e-493b-ae03-bb24cdf2b176': 52, u'd1d972e0-2ab9-43e3-a194-c0ae4e9c4f07': 43, u'59ee98fb-408b-4caf-9b80-e915e3bf25fc': 22, u'c9d1feff-239a-442d-b4d1-f629e1f7b428': 40, u'dd35ffa2-3df3-48a8-b633-8d07266b855d': 46, u'6d86c59c-2424-4957-a353-e315db973e39': 29, u'6865b85b-cf00-4ac2-a59f-a541dfcce15f': 27, u'290e8223-11af-4ce8-b01c-85a2229fefc7': 11, u'XXXXXXXXXX': 0, u'845151ee-57e6-429b-a7b6-13c318596361': 34, u'383bfc33-0e1f-41cd-85b1-1819e62e1f45': 17, u'5ce4ec22-d958-4f20-a154-d94176778188': 23, u'e7840a7d-38e4-4d69-b666-0ee4c92fe832': 49, u'0605e698-fa14-4c6d-978b-4188611b03b1': 3, u'0beff33b-835c-497b-9c3d-a0ff80e2b98f': 8, u'fa885100-f442-46e1-8ec1-5fcaf190c386': 54, u'365eddb4-fb6c-4766-8a1d-548cd31dee1a': 16, u'cb47245d-0489-4b59-b203-378a2221b2fb': 41, u'05ff9c72-5f46-40d7-8a69-61e94cff7233': 6, u'4cbbb2f9-b5d1-43ce-8aea-b281095a9564': 19, u'7592f593-bc39-4903-8419-f2460f8395e1': 30, u'aebe6fa6-c088-4d37-aa6c-1e97d77fed60': 37, u'd295414f-1f52-451e-a6a3-3d75174a0e2d': 44, u'e71af595-fd4f-438a-92c8-310d0a58eb5d': 48, u'46c9960c-ec15-43c2-b5cd-37e30fa2fa81': 18, u'086ed877-5cf0-4dff-83cb-ac2e9b768b04': 7, u'1988e204-96d5-49b0-bf73-450c572780d4': 4, u'e4a30c3a-c4db-450c-b8ae-220f59e12e4b': 47, u'58119eaa-a5ae-492d-ac8a-4a1cfb731a2c': 20, u'1d519592-7875-4ba0-b81c-a8f01dfe77a1': 5, u'6d011598-b272-4923-9bbf-3a2bf413dc67': 28, u'<eos>': 1, u'1167cf9a-8b02-4ecd-aa0d-8bb161e796c2': 9, u'19467cac-db46-41a4-9e6e-99d054952026': 10, u'79fd2fe7-dae8-4d5e-9462-3476f45a91a7': 31, u'595c9383-0108-4a8e-b6f3-0c97e54f19bf': 21, u'd36a800e-600f-4b9b-ac70-678281d37f1e': 45, u'b288763b-9468-4934-87a0-5cf33c5d7ecd': 38, u'7ddd7215-c114-4b79-b53d-4cc18e846e0d': 32, u'8c84090c-36b3-4fa2-a613-478bf59a7265': 36, u'2d982a74-a21a-4714-9d81-405ede915053': 12, u'e9a3eb33-5e18-46a7-bae2-4e6939c6c0df': 51, u'7e747df7-b46e-4dc7-a402-b574c9eb1af1': 33, u'fa6a5cf0-65c4-40bd-ae96-c58d19b69f82': 2, u'e90a6932-b238-4cc0-8331-6637469b7a34': 50, u'62a9959d-6c3e-4c59-b94a-3a2e53bce80b': 24, u'86ede2e5-8203-4d99-ad90-eb107f7fe620': 35, u'31459b6a-c642-4786-b102-d42377f7922e': 14, u'cfc2fb95-2fc0-4129-acf3-5a5dfb9bceef': 42, u'638ebd40-97e4-4417-98ff-a62d28971742': 25}\n"
     ]
    }
   ],
   "source": [
    "word_to_id = helpers._build_vocab('data/sample_train.txt')\n",
    "print(word_to_id)"
   ]
  },
  {
   "cell_type": "code",
   "execution_count": 9,
   "metadata": {
    "collapsed": false
   },
   "outputs": [
    {
     "name": "stdout",
     "output_type": "stream",
     "text": [
      "[45, 22, 30, 34, 40, 53, 32, 17, 33, 29, 1, 0, 0, 0, 8, 18, 16, 6, 9, 37, 1, 5, 39, 0, 0, 0, 0, 25, 10, 48, 36, 1, 0, 0, 0, 0, 0, 54, 1, 0, 20, 0, 5, 50, 12, 49, 52, 42, 1, 13, 24, 0, 0, 0, 0, 0, 0, 1, 14, 0, 4, 19, 41, 11, 4, 15, 46, 31, 1, 2, 2, 3, 26, 38, 7, 3, 2, 1, 0, 35, 28, 47, 44, 23, 21, 51, 27, 43, 1]\n",
      "[[45, 22, 30, 34, 40, 53, 32, 17, 33, 29], [0, 0, 0, 8, 18, 16, 6, 9, 37], [5, 39, 0, 0, 0, 0, 25, 10, 48, 36], [0, 0, 0, 0, 0, 54], [0, 20, 0, 5, 50, 12, 49, 52, 42], [13, 24, 0, 0, 0, 0, 0, 0], [14, 0, 4, 19, 41, 11, 4, 15, 46, 31], [2, 2, 3, 26, 38, 7, 3, 2], [0, 35, 28, 47, 44, 23, 21, 51, 27, 43]]\n"
     ]
    }
   ],
   "source": [
    "file_to_ids = helpers._file_to_word_ids('data/sample_train.txt',word_to_id)\n",
    "print(file_to_ids)\n",
    "batch_ = [list(group) for k, group in groupby(file_to_ids, lambda x: x == word_to_id['<eos>']) if not k]\n",
    "print(batch_)"
   ]
  },
  {
   "cell_type": "code",
   "execution_count": 3,
   "metadata": {
    "collapsed": false
   },
   "outputs": [
    {
     "name": "stdout",
     "output_type": "stream",
     "text": [
      "[[45, 22, 30, 34, 40, 53, 32, 17, 33, 29], [0, 0, 0, 8, 18, 16, 6, 9, 37], [5, 39, 0, 0, 0, 0, 25, 10, 48, 36], [0, 0, 0, 0, 0, 54], [0, 20, 0, 5, 50, 12, 49, 52, 42], [13, 24, 0, 0, 0, 0, 0, 0], [14, 0, 4, 19, 41, 11, 4, 15, 46, 31], [2, 2, 3, 26, 38, 7, 3, 2], [0, 35, 28, 47, 44, 23, 21, 51, 27, 43]] [[45, 22, 30, 34, 40, 53, 32, 17, 33, 29], [0, 0, 0, 8, 18, 16, 6, 9, 37], [5, 39, 0, 0, 0, 0, 25, 10, 48, 36], [0, 0, 0, 0, 0, 54], [0, 20, 0, 5, 50, 12, 49, 52, 42], [13, 24, 0, 0, 0, 0, 0, 0], [14, 0, 4, 19, 41, 11, 4, 15, 46, 31], [2, 2, 3, 26, 38, 7, 3, 2], [0, 35, 28, 47, 44, 23, 21, 51, 27, 43]] [[45, 22, 30, 34, 40, 53, 32, 17, 33, 29], [0, 0, 0, 8, 18, 16, 6, 9, 37], [5, 39, 0, 0, 0, 0, 25, 10, 48, 36], [0, 0, 0, 0, 0, 54], [0, 20, 0, 5, 50, 12, 49, 52, 42], [13, 24, 0, 0, 0, 0, 0, 0], [14, 0, 4, 19, 41, 11, 4, 15, 46, 31], [2, 2, 3, 26, 38, 7, 3, 2], [0, 35, 28, 47, 44, 23, 21, 51, 27, 43]] 55\n"
     ]
    }
   ],
   "source": [
    "print train_data, valid_data, test_data, vocabulary"
   ]
  },
  {
   "cell_type": "code",
   "execution_count": 5,
   "metadata": {
    "collapsed": false
   },
   "outputs": [
    {
     "name": "stdout",
     "output_type": "stream",
     "text": [
      "XXXXXXXXXX\n",
      "<eos>\n",
      "fa6a5cf0-65c4-40bd-ae96-c58d19b69f82\n",
      "0605e698-fa14-4c6d-978b-4188611b03b1\n",
      "1988e204-96d5-49b0-bf73-450c572780d4\n",
      "1d519592-7875-4ba0-b81c-a8f01dfe77a1\n",
      "05ff9c72-5f46-40d7-8a69-61e94cff7233\n",
      "086ed877-5cf0-4dff-83cb-ac2e9b768b04\n",
      "0beff33b-835c-497b-9c3d-a0ff80e2b98f\n",
      "1167cf9a-8b02-4ecd-aa0d-8bb161e796c2\n",
      "19467cac-db46-41a4-9e6e-99d054952026\n",
      "290e8223-11af-4ce8-b01c-85a2229fefc7\n",
      "2d982a74-a21a-4714-9d81-405ede915053\n",
      "2e1c835c-ddfc-413a-835c-6a35c7d15d66\n",
      "31459b6a-c642-4786-b102-d42377f7922e\n",
      "32193aa3-d5c5-41b7-92b8-04e557c8aec3\n",
      "365eddb4-fb6c-4766-8a1d-548cd31dee1a\n",
      "383bfc33-0e1f-41cd-85b1-1819e62e1f45\n",
      "46c9960c-ec15-43c2-b5cd-37e30fa2fa81\n",
      "4cbbb2f9-b5d1-43ce-8aea-b281095a9564\n",
      "58119eaa-a5ae-492d-ac8a-4a1cfb731a2c\n",
      "595c9383-0108-4a8e-b6f3-0c97e54f19bf\n",
      "59ee98fb-408b-4caf-9b80-e915e3bf25fc\n",
      "5ce4ec22-d958-4f20-a154-d94176778188\n",
      "62a9959d-6c3e-4c59-b94a-3a2e53bce80b\n",
      "638ebd40-97e4-4417-98ff-a62d28971742\n",
      "67ec10f3-3de0-415d-a194-6967d6908aed\n",
      "6865b85b-cf00-4ac2-a59f-a541dfcce15f\n",
      "6d011598-b272-4923-9bbf-3a2bf413dc67\n",
      "6d86c59c-2424-4957-a353-e315db973e39\n",
      "7592f593-bc39-4903-8419-f2460f8395e1\n",
      "79fd2fe7-dae8-4d5e-9462-3476f45a91a7\n",
      "7ddd7215-c114-4b79-b53d-4cc18e846e0d\n",
      "7e747df7-b46e-4dc7-a402-b574c9eb1af1\n",
      "845151ee-57e6-429b-a7b6-13c318596361\n",
      "86ede2e5-8203-4d99-ad90-eb107f7fe620\n",
      "8c84090c-36b3-4fa2-a613-478bf59a7265\n",
      "aebe6fa6-c088-4d37-aa6c-1e97d77fed60\n",
      "b288763b-9468-4934-87a0-5cf33c5d7ecd\n",
      "b5e860b2-bb55-4f70-9e61-305252746e6b\n",
      "c9d1feff-239a-442d-b4d1-f629e1f7b428\n",
      "cb47245d-0489-4b59-b203-378a2221b2fb\n",
      "cfc2fb95-2fc0-4129-acf3-5a5dfb9bceef\n",
      "d1d972e0-2ab9-43e3-a194-c0ae4e9c4f07\n",
      "d295414f-1f52-451e-a6a3-3d75174a0e2d\n",
      "d36a800e-600f-4b9b-ac70-678281d37f1e\n",
      "dd35ffa2-3df3-48a8-b633-8d07266b855d\n",
      "e4a30c3a-c4db-450c-b8ae-220f59e12e4b\n",
      "e71af595-fd4f-438a-92c8-310d0a58eb5d\n",
      "e7840a7d-38e4-4d69-b666-0ee4c92fe832\n",
      "e90a6932-b238-4cc0-8331-6637469b7a34\n",
      "e9a3eb33-5e18-46a7-bae2-4e6939c6c0df\n",
      "eb2fbdca-089e-493b-ae03-bb24cdf2b176\n",
      "f0b99da2-3911-42a8-885c-26faad30d489\n",
      "fa885100-f442-46e1-8ec1-5fcaf190c386\n"
     ]
    }
   ],
   "source": [
    "for word in helpers.all_words:\n",
    "    print word"
   ]
  },
  {
   "cell_type": "code",
   "execution_count": 7,
   "metadata": {
    "collapsed": false
   },
   "outputs": [
    {
     "name": "stdout",
     "output_type": "stream",
     "text": [
      "head of the batch:\n",
      "[3, 6, 7, 2, 8, 6, 2, 6]\n",
      "[9, 9, 6, 8, 2]\n",
      "[2, 3, 4, 4, 7]\n",
      "[6, 6, 3]\n",
      "[7, 9, 4, 3, 3, 8, 2, 8]\n",
      "[6, 2, 7, 5, 9, 9, 3]\n",
      "[8, 5, 4, 3]\n",
      "[9, 7, 4]\n",
      "[9, 6, 6]\n",
      "[8, 5, 6, 9, 5, 2, 5, 3]\n"
     ]
    }
   ],
   "source": [
    "batch_size = 10\n",
    "batches = helpers.random_sequences(length_from=3, length_to=8,\n",
    "                                   vocab_lower=2, vocab_upper=10,\n",
    "                                   batch_size=batch_size)\n",
    "\n",
    "print('head of the batch:')\n",
    "for seq in next(batches)[:10]:\n",
    "    print(seq)"
   ]
  },
  {
   "cell_type": "code",
   "execution_count": 4,
   "metadata": {
    "collapsed": true
   },
   "outputs": [],
   "source": [
    "length_from = 3\n",
    "length_to = 10\n",
    "vocab_lower = 2 \n",
    "vocab_upper = 6\n",
    "batch_size = 5"
   ]
  },
  {
   "cell_type": "code",
   "execution_count": 5,
   "metadata": {
    "collapsed": false
   },
   "outputs": [],
   "source": [
    "def random_length():\n",
    "    if length_from == length_to:\n",
    "        return length_from\n",
    "    return np.random.randint(length_from, length_to + 1)"
   ]
  },
  {
   "cell_type": "code",
   "execution_count": 9,
   "metadata": {
    "collapsed": false
   },
   "outputs": [
    {
     "name": "stdout",
     "output_type": "stream",
     "text": [
      "9\n"
     ]
    }
   ],
   "source": [
    "print(random_length())"
   ]
  },
  {
   "cell_type": "code",
   "execution_count": 13,
   "metadata": {
    "collapsed": false
   },
   "outputs": [
    {
     "name": "stdout",
     "output_type": "stream",
     "text": [
      "[3, 4, 5, 2, 2, 2, 5]\n"
     ]
    }
   ],
   "source": [
    "print(np.random.randint(low=vocab_lower,\n",
    "                              high=vocab_upper,\n",
    "                              size=random_length()).tolist())"
   ]
  },
  {
   "cell_type": "code",
   "execution_count": 21,
   "metadata": {
    "collapsed": false
   },
   "outputs": [
    {
     "name": "stdout",
     "output_type": "stream",
     "text": [
      "[[45, 22, 30, 34, 40, 53, 32, 17, 33, 29], [0, 0, 0, 8, 18, 16, 6, 9, 37], [5, 39, 0, 0, 0, 0, 25, 10, 48, 36], [0, 0, 0, 0, 0, 54], [0, 20, 0, 5, 50, 12, 49, 52, 42], [13, 24, 0, 0, 0, 0, 0, 0], [14, 0, 4, 19, 41, 11, 4, 15, 46, 31], [2, 2, 3, 26, 38, 7, 3, 2], [0, 35, 28, 47, 44, 23, 21, 51, 27, 43]]\n",
      "head of the batch:\n",
      "45\n",
      "22\n",
      "30\n",
      "34\n",
      "40\n",
      "53\n",
      "32\n",
      "17\n",
      "33\n",
      "29\n"
     ]
    }
   ],
   "source": [
    "print(train_data)\n",
    "batches = helpers.read_and_load_data(train_data)\n",
    "\n",
    "print('head of the batch:')\n",
    "for seq in next(batches):\n",
    "    print(seq)"
   ]
  },
  {
   "cell_type": "code",
   "execution_count": 22,
   "metadata": {
    "collapsed": false
   },
   "outputs": [
    {
     "name": "stdout",
     "output_type": "stream",
     "text": [
      "[0, 0, 0, 8, 18, 16, 6, 9, 37]\n",
      "[5, 39, 0, 0, 0, 0, 25, 10, 48, 36]\n",
      "[0, 0, 0, 0, 0, 54]\n",
      "[0, 20, 0, 5, 50, 12, 49, 52, 42]\n",
      "[13, 24, 0, 0, 0, 0, 0, 0]\n",
      "[14, 0, 4, 19, 41, 11, 4, 15, 46, 31]\n",
      "[2, 2, 3, 26, 38, 7, 3, 2]\n",
      "[0, 35, 28, 47, 44, 23, 21, 51, 27, 43]\n"
     ]
    }
   ],
   "source": [
    "for batch in batches:\n",
    "    print(batch)"
   ]
  },
  {
   "cell_type": "code",
   "execution_count": null,
   "metadata": {
    "collapsed": true
   },
   "outputs": [],
   "source": []
  }
 ],
 "metadata": {
  "anaconda-cloud": {},
  "kernelspec": {
   "display_name": "Python [default]",
   "language": "python",
   "name": "python2"
  },
  "language_info": {
   "codemirror_mode": {
    "name": "ipython",
    "version": 2
   },
   "file_extension": ".py",
   "mimetype": "text/x-python",
   "name": "python",
   "nbconvert_exporter": "python",
   "pygments_lexer": "ipython2",
   "version": "2.7.12"
  }
 },
 "nbformat": 4,
 "nbformat_minor": 1
}
